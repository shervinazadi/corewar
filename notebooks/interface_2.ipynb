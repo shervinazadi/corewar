{
 "cells": [
  {
   "cell_type": "code",
   "execution_count": 1,
   "source": [
    "from PIL import Image\n",
    "import numpy as np\n",
    "import random\n",
    "import time"
   ],
   "outputs": [],
   "metadata": {}
  },
  {
   "cell_type": "code",
   "execution_count": 2,
   "source": [
    "# Colors are dark and bright\n",
    "WARRIOR_COLORS = (((30,30,30), (200,200,200)),\n",
    "                  ((0,0,100), (0,0,255)),\n",
    "                  ((0,100,0), (0,255,0)),\n",
    "                  ((100,0,0), (255,0,0)),\n",
    "                  ((0,100,100), (0,255,255)),\n",
    "                  ((100,0,100), (255,0,255)),\n",
    "                  ((66,66,100), (170,170,255)),\n",
    "                  ((100,66,66), (255,170,170)),\n",
    "                  ((66,100,66), (170,255,170)),\n",
    "                  ((100,100,0), (255,255,0)),\n",
    "                  ((0,0,100), (0,0,255)),\n",
    "                  ((0,100,0), (0,255,0)),\n",
    "                  ((100,0,0), (255,0,0)),\n",
    "                  ((0,100,100), (0,255,255)),\n",
    "                  ((100,0,100), (255,0,255)),\n",
    "                  ((66,66,100), (170,170,255)),\n",
    "                  ((100,66,66), (255,170,170)),\n",
    "                  ((66,100,66), (170,255,170)),\n",
    "                  ((100,100,0), (255,255,0)))\n",
    "\n",
    "WARRIOR_COLORS = (((200,200,200), (200,200,200)),\n",
    "                  ((10,10,10), (0,0,255)),\n",
    "                  ((10,10,10), (0,0,255)),\n",
    "                  ((10,10,10), (0,0,255)),\n",
    "                  ((10,10,10), (0,0,255)),\n",
    "                  ((10,10,10), (0,0,255)),\n",
    "                  ((10,10,10), (0,0,255)),\n",
    "                  ((10,10,10), (0,0,255)),\n",
    "                  ((10,10,10), (0,0,255)),\n",
    "                  ((10,10,10), (0,0,255)),\n",
    "                  ((10,10,10), (0,0,255)),\n",
    "                  ((10,10,10), (0,0,255)),\n",
    "                  ((10,10,10), (0,0,255)),\n",
    "                  ((10,10,10), (0,0,255)),\n",
    "                  ((100,100,0), (255,255,0)))\n",
    "\n",
    "wc_arr = np.array(WARRIOR_COLORS, dtype=np.uint8)\n",
    "\n",
    "# specify the image size\n",
    "shape = (125, 64)"
   ],
   "outputs": [],
   "metadata": {}
  },
  {
   "cell_type": "code",
   "execution_count": 3,
   "source": [
    "# read change rate, write change rate, consumption\n",
    "rcr = 0.3\n",
    "wcr = 0.7\n",
    "ccr = 1.0\n",
    "# memory unit pixel size\n",
    "ps = 7\n",
    "pad = 2\n",
    "ps2 = ps**2"
   ],
   "outputs": [],
   "metadata": {}
  },
  {
   "cell_type": "code",
   "execution_count": 4,
   "source": [
    "# reading the initial frame\n",
    "i = 0\n",
    "init_record = np.load(\"../games/test_\"+str(i)+\".npz\")[\"record\"]\n",
    "# reshaping to the image size\n",
    "rs_init_record = init_record.reshape((shape[0], shape[1], 6))\n",
    "# coloring based on the writer warrior\n",
    "# reader warrior index: 4\n",
    "# writer warrior index: 5\n",
    "img = Image.fromarray(wc_arr[rs_init_record[:, :, 5], 0])\n",
    "# increasing the image resolution\n",
    "img = img.resize((shape[1]*ps, shape[0]*ps), resample=Image.NEAREST)\n",
    "img_arr = np.pad(np.array(img), ((pad, pad), (pad, pad), (0,0)), mode='constant', constant_values=[0])"
   ],
   "outputs": [],
   "metadata": {}
  },
  {
   "cell_type": "code",
   "execution_count": 5,
   "source": [
    "img_arr.shape"
   ],
   "outputs": [
    {
     "output_type": "execute_result",
     "data": {
      "text/plain": [
       "(879, 452, 3)"
      ]
     },
     "metadata": {},
     "execution_count": 5
    }
   ],
   "metadata": {}
  },
  {
   "cell_type": "code",
   "execution_count": 6,
   "source": [
    "def spray_read(img_arr, record, pre_record, shape, ps, pad, rcr, wc_arr):\n",
    "    # read the new record\n",
    "    record = np.load(\"../games/test_\"+str(i)+\".npz\")[\"record\"]\n",
    "    \n",
    "    # find the recent reads by agents\n",
    "    recent_read = np.argwhere(record[:, 4] != pre_record[:, 4]).flatten()\n",
    "    # extract the x, y indices\n",
    "    x_ri, y_ri = np.unravel_index(recent_read, shape)\n",
    "\n",
    "    # generate the read spray kernels (randomly)\n",
    "    read_spray_kernel = np.random.rand(recent_read.size, ps + 2*pad, ps + 2 * pad)\n",
    "    # convert spray to indices\n",
    "    rsk_index = np.argwhere(read_spray_kernel < rcr)\n",
    "\n",
    "    \n",
    "    # Right Side: reads the first element of rsk_index which is the id of the read change in this iteration, and with that index we read the id of the memory unit that has been changed from the recent_read, and with the memory unit id and 4 (read) we read the id of the agent that has executed the read, and we use this agent id to extract the color of the agent from wc_arr\n",
    "\n",
    "    # Left Side: reads the first element of rsk_index which is the id of the read change in this iteration, and with that we read the x index that corresponds to the memory unit and multiply it with the pixel scale to find the top-left corner of the representing area in the high-resolution image, then we add the rsk_index column 1 to find the randomly selected pixel in the area that we need to change its color\n",
    "    # print((x_ri[rsk_index[:, 0]] * ps + rsk_index[:, 1]).shape, (y_ri[rsk_index[:, 0]] * ps + rsk_index[:, 2]).shape)\n",
    "    # print(img_arr[x_ri[rsk_index[:, 0]] * ps + rsk_index[:, 1], y_ri[rsk_index[:, 0]] * ps + rsk_index[:, 2]])\n",
    "    img_arr[x_ri[rsk_index[:, 0]] * ps + rsk_index[:, 1], y_ri[rsk_index[:, 0]] * ps + rsk_index[:, 2]] += wc_arr[record[recent_read[rsk_index[:, 0]], 4], 0]\n",
    "\n",
    "    return img_arr\n",
    "\n",
    "\n",
    "def spray_write(img_arr, record, pre_record, shape, ps, pad, wcr, wc_arr):\n",
    "    # find the recent reads by agents\n",
    "    recent_write = np.argwhere(record[:, 5] != pre_record[:, 5]).flatten()\n",
    "    # extract the x, y indices\n",
    "    x_wi, y_wi = np.unravel_index(recent_write, shape)\n",
    "\n",
    "    # generate the read spray kernels (randomly)\n",
    "    write_spray_kernel = np.random.rand(recent_write.size, ps, ps)\n",
    "    # convert spray to indices\n",
    "    wsk_index = np.argwhere(write_spray_kernel < wcr)\n",
    "\n",
    "    img_arr[x_wi[wsk_index[:, 0]] * ps + wsk_index[:, 1], y_wi[wsk_index[:, 0]] * ps + wsk_index[:, 2]] -= wc_arr[record[recent_write[wsk_index[:, 0]], 4], 0]\n",
    "    \n",
    "    return img_arr\n",
    "\n",
    "def spray_consumption(img_arr, record, pre_record, shape, ps, pad, ccr, wc_arr):\n",
    "    # consumption condition are threefold:\n",
    "    # 1. an action of read has executed at this memory unit\n",
    "    # 2. the agent responsible for the read action is different from the agent that has lastly written in the same unit\n",
    "    # 3. the agent responsible for the last write action is not 0 (which is the initialization action)\n",
    "    recent_consumption = np.argwhere((record[:, 4] != pre_record[:, 4]) * (record[:, 4] != record[:, 5])* (record[:, 4] != 0)).flatten()\n",
    "    # extract the x, y indices\n",
    "    x_wi, y_wi = np.unravel_index(recent_consumption, shape)\n",
    "\n",
    "    # generate the consumption spray kernels (randomly)\n",
    "    consumption_spray_kernel = np.random.rand(recent_consumption.size, ps, ps)\n",
    "    # convert spray to indices\n",
    "    csk_index = np.argwhere(consumption_spray_kernel < ccr)\n",
    "\n",
    "    img_arr[x_wi[csk_index[:, 0]] * ps + csk_index[:, 1], y_wi[csk_index[:, 0]] * ps + csk_index[:, 2]] = np.array([255, 0, 0])\n",
    "    \n",
    "    return img_arr\n"
   ],
   "outputs": [],
   "metadata": {}
  },
  {
   "cell_type": "code",
   "execution_count": 9,
   "source": [
    "# initialize the prerecord\n",
    "pre_record = init_record\n",
    "\n",
    "# iterate over frames\n",
    "for i in range(1, 13700):\n",
    "    # read the new record\n",
    "    record = np.load(\"../games/test_\"+str(i)+\".npz\")[\"record\"]\n",
    "    \n",
    "    # # spray the read actions\n",
    "    # img_arr = spray_read(img_arr, record, pre_record, shape, ps, pad, rcr, wc_arr)\n",
    "\n",
    "    # # spray the write actions\n",
    "    # img_arr = spray_write(img_arr, record, pre_record, shape, ps, pad, wcr, wc_arr)\n",
    "    \n",
    "    # spray the consumption\n",
    "    img_arr = spray_consumption(img_arr, record, pre_record, shape, ps, pad, ccr, wc_arr)\n",
    "\n",
    "    # update the prerecord\n",
    "    pre_record = record\n",
    "\n"
   ],
   "outputs": [],
   "metadata": {}
  },
  {
   "cell_type": "code",
   "execution_count": 10,
   "source": [
    "new_img = Image.fromarray(img_arr)\n",
    "new_img.save(\"../out/I2/I2_\" + str(time.time()) + \".png\")\n",
    "new_img"
   ],
   "outputs": [
    {
     "output_type": "execute_result",
     "data": {
      "image/png": "[encoded data removed]",
      "text/plain": [
       "<PIL.Image.Image image mode=RGB size=452x879 at 0x7F960858FB50>"
      ]
     },
     "metadata": {},
     "execution_count": 10
    }
   ],
   "metadata": {}
  },
  {
   "cell_type": "code",
   "execution_count": 9,
   "source": [
    "img"
   ],
   "outputs": [
    {
     "output_type": "execute_result",
     "data": {
      "image/png": "[encoded data removed]",
      "text/plain": [
       "<PIL.Image.Image image mode=RGB size=448x875 at 0x7FF1208BAC40>"
      ]
     },
     "metadata": {},
     "execution_count": 9
    }
   ],
   "metadata": {}
  },
  {
   "cell_type": "code",
   "execution_count": 34,
   "source": [
    "img.save(\"../out/I2/I2_\" + str(time.time()) + \".png\")"
   ],
   "outputs": [],
   "metadata": {}
  }
 ],
 "metadata": {
  "orig_nbformat": 4,
  "language_info": {
   "name": "python",
   "version": "3.8.5",
   "mimetype": "text/x-python",
   "codemirror_mode": {
    "name": "ipython",
    "version": 3
   },
   "pygments_lexer": "ipython3",
   "nbconvert_exporter": "python",
   "file_extension": ".py"
  },
  "kernelspec": {
   "name": "python3",
   "display_name": "Python 3.8.5 64-bit ('tgdev': conda)"
  },
  "interpreter": {
   "hash": "232c0d2e1ace95119f0f50ab7b77ac3ba9f0cfd8ad5dddf0ba4b7966ca8956d0"
  }
 },
 "nbformat": 4,
 "nbformat_minor": 2
}