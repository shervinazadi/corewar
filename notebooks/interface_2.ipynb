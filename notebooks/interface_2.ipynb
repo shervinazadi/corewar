{
 "cells": [
  {
   "cell_type": "code",
   "execution_count": 66,
   "source": [
    "from PIL import Image\n",
    "import numpy as np\n",
    "import random\n",
    "import time"
   ],
   "outputs": [],
   "metadata": {}
  },
  {
   "cell_type": "code",
   "execution_count": 71,
   "source": [
    "# Colors are dark and bright\n",
    "WARRIOR_COLORS = (((100,100,100), (200,200,200)),\n",
    "                  ((0,0,100), (0,0,255)),\n",
    "                  ((0,100,0), (0,255,0)),\n",
    "                  ((100,0,0), (255,0,0)),\n",
    "                  ((0,100,100), (0,255,255)),\n",
    "                  ((100,0,100), (255,0,255)),\n",
    "                  ((66,66,100), (170,170,255)),\n",
    "                  ((100,66,66), (255,170,170)),\n",
    "                  ((66,100,66), (170,255,170)),\n",
    "                  ((100,100,0), (255,255,0)),\n",
    "                  ((0,0,100), (0,0,255)),\n",
    "                  ((0,100,0), (0,255,0)),\n",
    "                  ((100,0,0), (255,0,0)),\n",
    "                  ((0,100,100), (0,255,255)),\n",
    "                  ((100,0,100), (255,0,255)),\n",
    "                  ((66,66,100), (170,170,255)),\n",
    "                  ((100,66,66), (255,170,170)),\n",
    "                  ((66,100,66), (170,255,170)),\n",
    "                  ((100,100,0), (255,255,0)))\n",
    "\n",
    "wc_arr = np.array(WARRIOR_COLORS, dtype=np.uint8)\n",
    "shape = (64, 125)"
   ],
   "outputs": [],
   "metadata": {}
  },
  {
   "cell_type": "code",
   "execution_count": 72,
   "source": [
    "i = 0\n",
    "record = np.load(\"../games/test_\"+str(i)+\".npz\")[\"record\"]"
   ],
   "outputs": [],
   "metadata": {}
  },
  {
   "cell_type": "code",
   "execution_count": 73,
   "source": [
    "rs_record = record.reshape((shape[0], shape[1], 6))\n",
    "rs_record.shape"
   ],
   "outputs": [
    {
     "output_type": "execute_result",
     "data": {
      "text/plain": [
       "(64, 125, 6)"
      ]
     },
     "metadata": {},
     "execution_count": 73
    }
   ],
   "metadata": {}
  },
  {
   "cell_type": "code",
   "execution_count": 74,
   "source": [
    "img = Image.fromarray(wc_arr[rs_record[:, :, 4], 0])\n",
    "img.resize(np.array(shape) * 5, resample=Image.NEAREST)"
   ],
   "outputs": [
    {
     "output_type": "execute_result",
     "data": {
      "image/png": "[encoded data removed]",
      "text/plain": [
       "<PIL.Image.Image image mode=RGB size=320x625 at 0x7F840049CD90>"
      ]
     },
     "metadata": {},
     "execution_count": 74
    }
   ],
   "metadata": {}
  }
 ],
 "metadata": {
  "orig_nbformat": 4,
  "language_info": {
   "name": "python",
   "version": "3.8.5",
   "mimetype": "text/x-python",
   "codemirror_mode": {
    "name": "ipython",
    "version": 3
   },
   "pygments_lexer": "ipython3",
   "nbconvert_exporter": "python",
   "file_extension": ".py"
  },
  "kernelspec": {
   "name": "python3",
   "display_name": "Python 3.8.5 64-bit ('tgdev': conda)"
  },
  "interpreter": {
   "hash": "232c0d2e1ace95119f0f50ab7b77ac3ba9f0cfd8ad5dddf0ba4b7966ca8956d0"
  }
 },
 "nbformat": 4,
 "nbformat_minor": 2
}